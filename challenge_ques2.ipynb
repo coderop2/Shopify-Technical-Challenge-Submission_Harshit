{
 "cells": [
  {
   "cell_type": "markdown",
   "id": "c2e58d87-8854-4a18-a59c-20a18b7e5890",
   "metadata": {},
   "source": [
    "# Question 2: \n",
    "For this question you’ll need to use SQL. [Follow this link](https://www.w3schools.com/SQL/TRYSQL.ASP?FILENAME=TRYSQL_SELECT_ALL) to access the data set required for the challenge. Please use queries to answer the following questions. Paste your queries along with your final numerical answers below."
   ]
  },
  {
   "cell_type": "markdown",
   "id": "9ad9fc1c-4e75-405d-9d61-d074ace47aca",
   "metadata": {},
   "source": [
    "## a) How many orders were shipped by Speedy Express in total?\n",
    "\n",
    "### SQL Query :-\n",
    "\n",
    "    SELECT COUNT(*) FROM Orders AS O\n",
    "    JOIN Shippers AS S\n",
    "    ON S.ShipperID == O.ShipperID\n",
    "    WHERE S.ShipperName == \"Speedy Express\"\n",
    "    \n",
    "Provided we know the shipperid\n",
    "\n",
    "    SELECT count(*) FROM Orders\n",
    "    where ShipperID == 1\n",
    "\n",
    "### Answer :- \n",
    "54 Orders were shipped by speedy express."
   ]
  },
  {
   "cell_type": "markdown",
   "id": "5cdc29e6-32e1-4ec4-8e4c-ecc36f56b4df",
   "metadata": {},
   "source": [
    "## b) What is the last name of the employee with the most orders?\n",
    "\n",
    "### SQL QUERY\n",
    "\n",
    "    SELECT LastName, count(E.EmployeeID) as orders \n",
    "    FROM Orders AS O\n",
    "    LEFT JOIN Employees AS E\n",
    "    ON E.EmployeeID == O.EmployeeID\n",
    "    GROUP BY E.EmployeeID\n",
    "    ORDER BY orders DESC\n",
    "    LIMIT 1\n",
    "\n",
    "\n",
    "### Answer\n",
    "Employee with the last name as \"Peacock\" is the one with most orders i.e. 40."
   ]
  },
  {
   "cell_type": "markdown",
   "id": "0c60b97b-8f27-4e14-9193-bcb18d993f74",
   "metadata": {},
   "source": [
    "## c) What product was ordered the most by customers in Germany?\n",
    "\n",
    "### SQL QUERY\n",
    "\n",
    "    WITH extracted_data as (\n",
    "    SELECT p.ProductID, p.ProductName, c.CustomerID, c.Country, od.OrderID, od.Quantity\n",
    "    FROM OrderDetails AS od\n",
    "    \n",
    "    LEFT JOIN Orders AS o\n",
    "    ON od.OrderID == o.OrderID\n",
    "    \n",
    "    LEFT JOIN Customers as c\n",
    "    ON o.CustomerID == c.CustomerID\n",
    "    \n",
    "    LEFT JOIN Products AS p\n",
    "    ON p.ProductID == od.ProductID)\n",
    "\n",
    "If we are measuring the most ordered product based on total orders then we do:-\n",
    "\n",
    "    SELECT ProductName, COUNT(*) AS Ordered_Quantity \n",
    "    FROM extracted_data\n",
    "    WHERE Country == \"Germany\"\n",
    "    GROUP BY ProductName\n",
    "    ORDER BY Ordered_Quantity DESC\n",
    "    LIMIT 1\n",
    "    \n",
    "If we are measuring the most ordered product based on total quantity then we do:-\n",
    "\n",
    "    SELECT ProductName, COUNT(*) AS Ordered_Quantity, SUM(Quantity) as Total_Quantity\n",
    "    FROM extracted_data\n",
    "    WHERE Country == \"Germany\"\n",
    "    GROUP BY ProductName\n",
    "    ORDER BY Total_Quantity DESC\n",
    "    LIMIT 1\n",
    "\n",
    "### Answer\n",
    "- If we are measuring the most ordered product based on total orders then the answer is \"**Gorgonzola Telino** being ordered in 5 orders\"\n",
    "- If we are measuring the most ordered product based on total quantity then the answer is \"**Boston Crab Meat** with total quantity ordered as 160\""
   ]
  },
  {
   "cell_type": "code",
   "execution_count": null,
   "id": "8fb9d4d4-8c7b-4a8e-8e8b-6ef26f7bfa69",
   "metadata": {},
   "outputs": [],
   "source": []
  }
 ],
 "metadata": {
  "kernelspec": {
   "display_name": "Python 3 (ipykernel)",
   "language": "python",
   "name": "python3"
  },
  "language_info": {
   "codemirror_mode": {
    "name": "ipython",
    "version": 3
   },
   "file_extension": ".py",
   "mimetype": "text/x-python",
   "name": "python",
   "nbconvert_exporter": "python",
   "pygments_lexer": "ipython3",
   "version": "3.9.7"
  }
 },
 "nbformat": 4,
 "nbformat_minor": 5
}
