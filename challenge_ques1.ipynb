{
 "cells": [
  {
   "cell_type": "markdown",
   "id": "6148a885-30a0-4564-965f-07ba7dde5698",
   "metadata": {
    "tags": []
   },
   "source": [
    "# Question 1: \n",
    "Given some sample data, write a program to answer the following: click here to access the required data set\n",
    "\n",
    "On Shopify, we have exactly 100 sneaker shops, and each of these shops sells only one model of shoe. We want to do some analysis of the average order value (AOV). When we look at orders data over a 30 day window, we naively calculate an AOV of $3145.13. Given that we know these shops are selling sneakers, a relatively affordable item, something seems wrong with our analysis. "
   ]
  },
  {
   "cell_type": "code",
   "execution_count": 1,
   "id": "ee41bed9-9f36-480d-892d-11de5aa15fb6",
   "metadata": {},
   "outputs": [
    {
     "data": {
      "text/html": [
       "<div>\n",
       "<style scoped>\n",
       "    .dataframe tbody tr th:only-of-type {\n",
       "        vertical-align: middle;\n",
       "    }\n",
       "\n",
       "    .dataframe tbody tr th {\n",
       "        vertical-align: top;\n",
       "    }\n",
       "\n",
       "    .dataframe thead th {\n",
       "        text-align: right;\n",
       "    }\n",
       "</style>\n",
       "<table border=\"1\" class=\"dataframe\">\n",
       "  <thead>\n",
       "    <tr style=\"text-align: right;\">\n",
       "      <th></th>\n",
       "      <th>order_id</th>\n",
       "      <th>shop_id</th>\n",
       "      <th>user_id</th>\n",
       "      <th>order_amount</th>\n",
       "      <th>total_items</th>\n",
       "      <th>payment_method</th>\n",
       "      <th>created_at</th>\n",
       "    </tr>\n",
       "  </thead>\n",
       "  <tbody>\n",
       "    <tr>\n",
       "      <th>0</th>\n",
       "      <td>1</td>\n",
       "      <td>53</td>\n",
       "      <td>746</td>\n",
       "      <td>224</td>\n",
       "      <td>2</td>\n",
       "      <td>cash</td>\n",
       "      <td>2017-03-13 12:36:56</td>\n",
       "    </tr>\n",
       "    <tr>\n",
       "      <th>1</th>\n",
       "      <td>2</td>\n",
       "      <td>92</td>\n",
       "      <td>925</td>\n",
       "      <td>90</td>\n",
       "      <td>1</td>\n",
       "      <td>cash</td>\n",
       "      <td>2017-03-03 17:38:52</td>\n",
       "    </tr>\n",
       "    <tr>\n",
       "      <th>2</th>\n",
       "      <td>3</td>\n",
       "      <td>44</td>\n",
       "      <td>861</td>\n",
       "      <td>144</td>\n",
       "      <td>1</td>\n",
       "      <td>cash</td>\n",
       "      <td>2017-03-14 4:23:56</td>\n",
       "    </tr>\n",
       "    <tr>\n",
       "      <th>3</th>\n",
       "      <td>4</td>\n",
       "      <td>18</td>\n",
       "      <td>935</td>\n",
       "      <td>156</td>\n",
       "      <td>1</td>\n",
       "      <td>credit_card</td>\n",
       "      <td>2017-03-26 12:43:37</td>\n",
       "    </tr>\n",
       "    <tr>\n",
       "      <th>4</th>\n",
       "      <td>5</td>\n",
       "      <td>18</td>\n",
       "      <td>883</td>\n",
       "      <td>156</td>\n",
       "      <td>1</td>\n",
       "      <td>credit_card</td>\n",
       "      <td>2017-03-01 4:35:11</td>\n",
       "    </tr>\n",
       "  </tbody>\n",
       "</table>\n",
       "</div>"
      ],
      "text/plain": [
       "   order_id  shop_id  user_id  order_amount  total_items payment_method  \\\n",
       "0         1       53      746           224            2           cash   \n",
       "1         2       92      925            90            1           cash   \n",
       "2         3       44      861           144            1           cash   \n",
       "3         4       18      935           156            1    credit_card   \n",
       "4         5       18      883           156            1    credit_card   \n",
       "\n",
       "            created_at  \n",
       "0  2017-03-13 12:36:56  \n",
       "1  2017-03-03 17:38:52  \n",
       "2   2017-03-14 4:23:56  \n",
       "3  2017-03-26 12:43:37  \n",
       "4   2017-03-01 4:35:11  "
      ]
     },
     "execution_count": 1,
     "metadata": {},
     "output_type": "execute_result"
    }
   ],
   "source": [
    "import pandas as pd\n",
    "import numpy as np\n",
    "import warnings\n",
    "warnings.filterwarnings('ignore')\n",
    "\n",
    "sneaker_df = pd.read_csv(\"dataset.csv\")\n",
    "sneaker_df.head()"
   ]
  },
  {
   "cell_type": "code",
   "execution_count": 2,
   "id": "d821d47f-9ac0-4415-9b3d-768d24259ed4",
   "metadata": {},
   "outputs": [
    {
     "name": "stdout",
     "output_type": "stream",
     "text": [
      "<class 'pandas.core.frame.DataFrame'>\n",
      "RangeIndex: 5000 entries, 0 to 4999\n",
      "Data columns (total 7 columns):\n",
      " #   Column          Non-Null Count  Dtype \n",
      "---  ------          --------------  ----- \n",
      " 0   order_id        5000 non-null   int64 \n",
      " 1   shop_id         5000 non-null   int64 \n",
      " 2   user_id         5000 non-null   int64 \n",
      " 3   order_amount    5000 non-null   int64 \n",
      " 4   total_items     5000 non-null   int64 \n",
      " 5   payment_method  5000 non-null   object\n",
      " 6   created_at      5000 non-null   object\n",
      "dtypes: int64(5), object(2)\n",
      "memory usage: 273.6+ KB\n"
     ]
    }
   ],
   "source": [
    "sneaker_df.info()"
   ]
  },
  {
   "cell_type": "markdown",
   "id": "7c52af97-6f8d-43af-b20d-fc85013c0bb0",
   "metadata": {},
   "source": [
    "From the above code cell it is evident that the dataset has no null entries and size of the dataset is 5000 rows and 7 columns."
   ]
  },
  {
   "cell_type": "code",
   "execution_count": 3,
   "id": "c83f388f-37ed-4a09-9831-f162882e60ea",
   "metadata": {},
   "outputs": [
    {
     "data": {
      "text/html": [
       "<div>\n",
       "<style scoped>\n",
       "    .dataframe tbody tr th:only-of-type {\n",
       "        vertical-align: middle;\n",
       "    }\n",
       "\n",
       "    .dataframe tbody tr th {\n",
       "        vertical-align: top;\n",
       "    }\n",
       "\n",
       "    .dataframe thead th {\n",
       "        text-align: right;\n",
       "    }\n",
       "</style>\n",
       "<table border=\"1\" class=\"dataframe\">\n",
       "  <thead>\n",
       "    <tr style=\"text-align: right;\">\n",
       "      <th></th>\n",
       "      <th>order_id</th>\n",
       "      <th>shop_id</th>\n",
       "      <th>user_id</th>\n",
       "      <th>order_amount</th>\n",
       "      <th>total_items</th>\n",
       "      <th>payment_method</th>\n",
       "      <th>created_at</th>\n",
       "    </tr>\n",
       "  </thead>\n",
       "  <tbody>\n",
       "    <tr>\n",
       "      <th>0</th>\n",
       "      <td>1863</td>\n",
       "      <td>39</td>\n",
       "      <td>738</td>\n",
       "      <td>536</td>\n",
       "      <td>4</td>\n",
       "      <td>cash</td>\n",
       "      <td>2017-03-01 0:08:09</td>\n",
       "    </tr>\n",
       "    <tr>\n",
       "      <th>1</th>\n",
       "      <td>1742</td>\n",
       "      <td>39</td>\n",
       "      <td>910</td>\n",
       "      <td>268</td>\n",
       "      <td>2</td>\n",
       "      <td>cash</td>\n",
       "      <td>2017-03-01 0:10:19</td>\n",
       "    </tr>\n",
       "    <tr>\n",
       "      <th>2</th>\n",
       "      <td>3229</td>\n",
       "      <td>97</td>\n",
       "      <td>912</td>\n",
       "      <td>324</td>\n",
       "      <td>2</td>\n",
       "      <td>cash</td>\n",
       "      <td>2017-03-01 0:14:12</td>\n",
       "    </tr>\n",
       "    <tr>\n",
       "      <th>3</th>\n",
       "      <td>1268</td>\n",
       "      <td>80</td>\n",
       "      <td>798</td>\n",
       "      <td>290</td>\n",
       "      <td>2</td>\n",
       "      <td>credit_card</td>\n",
       "      <td>2017-03-01 0:19:31</td>\n",
       "    </tr>\n",
       "    <tr>\n",
       "      <th>4</th>\n",
       "      <td>2690</td>\n",
       "      <td>49</td>\n",
       "      <td>799</td>\n",
       "      <td>258</td>\n",
       "      <td>2</td>\n",
       "      <td>credit_card</td>\n",
       "      <td>2017-03-01 0:22:25</td>\n",
       "    </tr>\n",
       "  </tbody>\n",
       "</table>\n",
       "</div>"
      ],
      "text/plain": [
       "   order_id  shop_id  user_id  order_amount  total_items payment_method  \\\n",
       "0      1863       39      738           536            4           cash   \n",
       "1      1742       39      910           268            2           cash   \n",
       "2      3229       97      912           324            2           cash   \n",
       "3      1268       80      798           290            2    credit_card   \n",
       "4      2690       49      799           258            2    credit_card   \n",
       "\n",
       "           created_at  \n",
       "0  2017-03-01 0:08:09  \n",
       "1  2017-03-01 0:10:19  \n",
       "2  2017-03-01 0:14:12  \n",
       "3  2017-03-01 0:19:31  \n",
       "4  2017-03-01 0:22:25  "
      ]
     },
     "execution_count": 3,
     "metadata": {},
     "output_type": "execute_result"
    }
   ],
   "source": [
    "sneaker_df_sorted = sneaker_df.sort_values(by='created_at').reset_index(drop = True)\n",
    "sneaker_df_sorted.head()"
   ]
  },
  {
   "cell_type": "code",
   "execution_count": 4,
   "id": "4d43220d-661f-4b68-be4a-037e9ca9105c",
   "metadata": {},
   "outputs": [
    {
     "name": "stdout",
     "output_type": "stream",
     "text": [
      "Unique shops: 100 and Unique users: 301\n"
     ]
    }
   ],
   "source": [
    "print(f\"Unique shops: {sneaker_df['shop_id'].nunique()} and Unique users: {sneaker_df['user_id'].nunique()}\")"
   ]
  },
  {
   "cell_type": "code",
   "execution_count": 5,
   "id": "ba0c8fc8-ddc9-43d2-8445-013e68178cd3",
   "metadata": {},
   "outputs": [
    {
     "name": "stdout",
     "output_type": "stream",
     "text": [
      "The average order value according to the question is 3145.128\n",
      "The average orders according to the question is 8.7872\n",
      "The average value  of 1 sneaker according to the question is 387.7428\n"
     ]
    }
   ],
   "source": [
    "mean = np.mean(sneaker_df['order_amount']) \n",
    "avg_itms = np.mean(sneaker_df['total_items'])\n",
    "avg_sneaker_val = np.mean(sneaker_df['order_amount']/sneaker_df['total_items'])\n",
    "\n",
    "print(\"The average order value according to the question is\", mean)\n",
    "print(\"The average orders according to the question is\", avg_itms)\n",
    "print(\"The average value  of 1 sneaker according to the question is\", avg_sneaker_val)"
   ]
  },
  {
   "cell_type": "markdown",
   "id": "3647b4bb-ac63-4e41-ba90-7f22673f94fd",
   "metadata": {},
   "source": [
    "### So let find out those anomalies\n",
    "### First lets focus on the number of items ordered"
   ]
  },
  {
   "cell_type": "code",
   "execution_count": 6,
   "id": "2541d3a3-ea86-4c85-8bc7-80719430615b",
   "metadata": {},
   "outputs": [
    {
     "data": {
      "text/plain": [
       "2       1832\n",
       "1       1830\n",
       "3        941\n",
       "4        293\n",
       "5         77\n",
       "2000      17\n",
       "6          9\n",
       "8          1\n",
       "Name: total_items, dtype: int64"
      ]
     },
     "execution_count": 6,
     "metadata": {},
     "output_type": "execute_result"
    }
   ],
   "source": [
    "sneaker_df['total_items'].value_counts()"
   ]
  },
  {
   "cell_type": "markdown",
   "id": "fd6c6be6-9809-41cf-ade1-11cd3a59ff10",
   "metadata": {},
   "source": [
    "##### Whoa there are 17 order for 2000 sneakers. Looks like we found one of the reasons for the price being high. Lets explore if is it being caused by only one user - so if it is then we can remove those entries to get closer to real valued (logical) AOV."
   ]
  },
  {
   "cell_type": "code",
   "execution_count": 7,
   "id": "985add3c-5122-4ecb-95d0-879f5d5bb4ac",
   "metadata": {},
   "outputs": [
    {
     "data": {
      "text/plain": [
       "42    17\n",
       "Name: shop_id, dtype: int64"
      ]
     },
     "execution_count": 7,
     "metadata": {},
     "output_type": "execute_result"
    }
   ],
   "source": [
    "sneaker_df[sneaker_df['total_items'] == 2000]['shop_id'].value_counts()"
   ]
  },
  {
   "cell_type": "markdown",
   "id": "cc35cb04-893f-4b8b-b101-deac003353f2",
   "metadata": {},
   "source": [
    "##### Since we cannot control how the consumer spends but we can make adjustments to better understand the problem. So, I am going to remove the entries with the shop ID 42 as its a extreme outlier (as compared to the items ordered by other shops) in order to strengthen our model for a better understanding of the problem. "
   ]
  },
  {
   "cell_type": "code",
   "execution_count": 8,
   "id": "5e81ed1f-0a71-4ca4-943e-325325c7b895",
   "metadata": {},
   "outputs": [],
   "source": [
    "mod_sneaker_df = sneaker_df[sneaker_df['shop_id']!=42]"
   ]
  },
  {
   "cell_type": "markdown",
   "id": "5d7a2597-1b07-4f35-86a4-91b2f5e34df3",
   "metadata": {},
   "source": [
    "### Now lets move on to order value"
   ]
  },
  {
   "cell_type": "code",
   "execution_count": 9,
   "id": "95bb409d-50f9-4589-9640-2a4b269692d0",
   "metadata": {},
   "outputs": [
    {
     "data": {
      "text/html": [
       "<div>\n",
       "<style scoped>\n",
       "    .dataframe tbody tr th:only-of-type {\n",
       "        vertical-align: middle;\n",
       "    }\n",
       "\n",
       "    .dataframe tbody tr th {\n",
       "        vertical-align: top;\n",
       "    }\n",
       "\n",
       "    .dataframe thead th {\n",
       "        text-align: right;\n",
       "    }\n",
       "</style>\n",
       "<table border=\"1\" class=\"dataframe\">\n",
       "  <thead>\n",
       "    <tr style=\"text-align: right;\">\n",
       "      <th></th>\n",
       "      <th>shop_id</th>\n",
       "      <th>order_amount</th>\n",
       "    </tr>\n",
       "  </thead>\n",
       "  <tbody>\n",
       "    <tr>\n",
       "      <th>0</th>\n",
       "      <td>78</td>\n",
       "      <td>2263800</td>\n",
       "    </tr>\n",
       "    <tr>\n",
       "      <th>1</th>\n",
       "      <td>89</td>\n",
       "      <td>23128</td>\n",
       "    </tr>\n",
       "    <tr>\n",
       "      <th>2</th>\n",
       "      <td>81</td>\n",
       "      <td>22656</td>\n",
       "    </tr>\n",
       "    <tr>\n",
       "      <th>3</th>\n",
       "      <td>6</td>\n",
       "      <td>22627</td>\n",
       "    </tr>\n",
       "    <tr>\n",
       "      <th>4</th>\n",
       "      <td>13</td>\n",
       "      <td>21760</td>\n",
       "    </tr>\n",
       "  </tbody>\n",
       "</table>\n",
       "</div>"
      ],
      "text/plain": [
       "   shop_id  order_amount\n",
       "0       78       2263800\n",
       "1       89         23128\n",
       "2       81         22656\n",
       "3        6         22627\n",
       "4       13         21760"
      ]
     },
     "execution_count": 9,
     "metadata": {},
     "output_type": "execute_result"
    }
   ],
   "source": [
    "temp = pd.pivot_table(mod_sneaker_df, values='order_amount', index='shop_id', aggfunc=np.sum).sort_values(by=\"order_amount\", ascending=False).reset_index()\n",
    "temp.head()"
   ]
  },
  {
   "cell_type": "code",
   "execution_count": 10,
   "id": "5274db39-88d0-44b9-ae39-cc9197670d7e",
   "metadata": {},
   "outputs": [
    {
     "name": "stdout",
     "output_type": "stream",
     "text": [
      "(46, 7)\n"
     ]
    },
    {
     "data": {
      "text/html": [
       "<div>\n",
       "<style scoped>\n",
       "    .dataframe tbody tr th:only-of-type {\n",
       "        vertical-align: middle;\n",
       "    }\n",
       "\n",
       "    .dataframe tbody tr th {\n",
       "        vertical-align: top;\n",
       "    }\n",
       "\n",
       "    .dataframe thead th {\n",
       "        text-align: right;\n",
       "    }\n",
       "</style>\n",
       "<table border=\"1\" class=\"dataframe\">\n",
       "  <thead>\n",
       "    <tr style=\"text-align: right;\">\n",
       "      <th></th>\n",
       "      <th>order_id</th>\n",
       "      <th>shop_id</th>\n",
       "      <th>user_id</th>\n",
       "      <th>order_amount</th>\n",
       "      <th>total_items</th>\n",
       "      <th>payment_method</th>\n",
       "      <th>created_at</th>\n",
       "    </tr>\n",
       "  </thead>\n",
       "  <tbody>\n",
       "    <tr>\n",
       "      <th>160</th>\n",
       "      <td>161</td>\n",
       "      <td>78</td>\n",
       "      <td>990</td>\n",
       "      <td>25725</td>\n",
       "      <td>1</td>\n",
       "      <td>credit_card</td>\n",
       "      <td>2017-03-12 5:56:57</td>\n",
       "    </tr>\n",
       "    <tr>\n",
       "      <th>490</th>\n",
       "      <td>491</td>\n",
       "      <td>78</td>\n",
       "      <td>936</td>\n",
       "      <td>51450</td>\n",
       "      <td>2</td>\n",
       "      <td>debit</td>\n",
       "      <td>2017-03-26 17:08:19</td>\n",
       "    </tr>\n",
       "    <tr>\n",
       "      <th>493</th>\n",
       "      <td>494</td>\n",
       "      <td>78</td>\n",
       "      <td>983</td>\n",
       "      <td>51450</td>\n",
       "      <td>2</td>\n",
       "      <td>cash</td>\n",
       "      <td>2017-03-16 21:39:35</td>\n",
       "    </tr>\n",
       "    <tr>\n",
       "      <th>511</th>\n",
       "      <td>512</td>\n",
       "      <td>78</td>\n",
       "      <td>967</td>\n",
       "      <td>51450</td>\n",
       "      <td>2</td>\n",
       "      <td>cash</td>\n",
       "      <td>2017-03-09 7:23:14</td>\n",
       "    </tr>\n",
       "    <tr>\n",
       "      <th>617</th>\n",
       "      <td>618</td>\n",
       "      <td>78</td>\n",
       "      <td>760</td>\n",
       "      <td>51450</td>\n",
       "      <td>2</td>\n",
       "      <td>cash</td>\n",
       "      <td>2017-03-18 11:18:42</td>\n",
       "    </tr>\n",
       "  </tbody>\n",
       "</table>\n",
       "</div>"
      ],
      "text/plain": [
       "     order_id  shop_id  user_id  order_amount  total_items payment_method  \\\n",
       "160       161       78      990         25725            1    credit_card   \n",
       "490       491       78      936         51450            2          debit   \n",
       "493       494       78      983         51450            2           cash   \n",
       "511       512       78      967         51450            2           cash   \n",
       "617       618       78      760         51450            2           cash   \n",
       "\n",
       "              created_at  \n",
       "160   2017-03-12 5:56:57  \n",
       "490  2017-03-26 17:08:19  \n",
       "493  2017-03-16 21:39:35  \n",
       "511   2017-03-09 7:23:14  \n",
       "617  2017-03-18 11:18:42  "
      ]
     },
     "execution_count": 10,
     "metadata": {},
     "output_type": "execute_result"
    }
   ],
   "source": [
    "shop_78 = mod_sneaker_df[mod_sneaker_df[\"shop_id\"] == 78]\n",
    "print(shop_78.shape)\n",
    "shop_78.head()"
   ]
  },
  {
   "cell_type": "markdown",
   "id": "98d92bb9-cc4e-4e9f-9b49-a8425875e6ed",
   "metadata": {},
   "source": [
    "##### As it is evident from the above block of code that there is one shop with ID \"78\" which is either a wrong entry or is a luxury brand which made its way here or is just charging very high per unit sneaker value. So lets remove the entries with shop ID \"78\" to get much more real AOV. Having a $25725 sneaker, i would even be afraid to step out of the house let alone wear it."
   ]
  },
  {
   "cell_type": "code",
   "execution_count": 11,
   "id": "613013b8-fb1a-44e7-9c21-5282213bca01",
   "metadata": {},
   "outputs": [],
   "source": [
    "mod_sneaker_df = mod_sneaker_df[mod_sneaker_df[\"shop_id\"] != 78]"
   ]
  },
  {
   "cell_type": "code",
   "execution_count": 12,
   "id": "8a7651de-df7d-48cb-a23b-5c9d3a02602f",
   "metadata": {},
   "outputs": [
    {
     "data": {
      "text/plain": [
       "(300.1558229655313, 3145.128)"
      ]
     },
     "execution_count": 12,
     "metadata": {},
     "output_type": "execute_result"
    }
   ],
   "source": [
    "np.mean(mod_sneaker_df['order_amount']), np.mean(sneaker_df['order_amount'])"
   ]
  },
  {
   "cell_type": "markdown",
   "id": "fb219a2e-4e16-44a5-b7aa-934fcbf7d11b",
   "metadata": {
    "jp-MarkdownHeadingCollapsed": true,
    "tags": []
   },
   "source": [
    "## Think about what could be going wrong with our calculation. Think about a better way to evaluate this data. \n",
    "\n",
    "#### Existing conditions:-\n",
    "As mentioned in the question that the average of all the porder values is as above but unfortunately thats the wrong as long as commmon sense dictates i.e. having a sneaker valued at $387.74, well thats one hell of a luxury product. But there can also be some problems with the way we calculated the values.\n",
    "\n",
    "#### Potential problems and what have been identified from above code:-\n",
    "1. There can be a outlier in number of items ordered, meaning that there could be one or more entries where the items ordered are somewhere in the range of thousands while rest are in the comparatively very less.\n",
    "    - Identification done:- There was a shop with ID 42 from where some orders were made with items in the ordered numbering to 2000 while rest of the orders had less than 10, making it a extreme oulier and thus removed it.\n",
    "2. There can be a outlier in total value of the orders, meaning that there could be one or more entries where the total value of the order are extremely high like maybe in millions (just trying to create a analogy) while rest are in just few thousands.\n",
    "    - Identification done:- There was a Shop with ID 78 which had a sneaker valued at $25725 (still cant get over it), removed its entires\n",
    "3. Other problems could be like there has been multiple entries of the same order, in other words duplicate entries but we would need more data to make that conclusion thus ignoring this here.\n",
    "\n",
    "#### After solving the above mentioned problems i was able to get the AOV of around $\\$$300 as compared to $\\$$3000+ which is a huge change\n",
    "\n",
    "### Other Evaluation methods below\n",
    "- Median (population score) - Consider a situation where the dataset is huge (same thing happening here) and contains extreme outliers - mean would become unstable and would go haywire but that is not the case with median as this will not be swayed by extreme outliers as much as mean.\n",
    "- z-mean (Independent score) - \"A z-score describes the position of a raw score in terms of its distance from the mean, when measured in standard deviation units. The z-score is positive if the value lies above the mean, and negative if it lies below the mean.\" [Source](https://www.simplypsychology.org/z-score.html). Z-Score is important because it is useful to standardized the values by converting them into z-scores."
   ]
  },
  {
   "cell_type": "markdown",
   "id": "21ae9f4d-68b7-41c7-890d-5cb3920cf3ae",
   "metadata": {},
   "source": [
    "## What metric would you report for this dataset? What is its value?\n",
    "1. Median"
   ]
  },
  {
   "cell_type": "code",
   "execution_count": 13,
   "id": "6ba5864d-8be7-4f07-a1fb-87a49d9b745e",
   "metadata": {},
   "outputs": [
    {
     "data": {
      "text/plain": [
       "count      5000.000000\n",
       "mean       3145.128000\n",
       "std       41282.539349\n",
       "min          90.000000\n",
       "25%         163.000000\n",
       "50%         284.000000\n",
       "75%         390.000000\n",
       "max      704000.000000\n",
       "Name: order_amount, dtype: float64"
      ]
     },
     "execution_count": 13,
     "metadata": {},
     "output_type": "execute_result"
    }
   ],
   "source": [
    "sneaker_df['order_amount'].describe()"
   ]
  },
  {
   "cell_type": "markdown",
   "id": "8161c11e-ef24-4787-84f1-37dfccd5516f",
   "metadata": {},
   "source": [
    "Thus the median of the dataset or in other words the AOV is around $284 (which is pretty close to the value i found out after removing some outliers). But when we say and talk about median, we also say and talk about 1st and 3rd quartile which explain the distribution of the sample, here it is the order values, and are very helpful in catching outliers. 1st quartile is at 25% and the 3rd is at 75% and there values are depicted in the above table."
   ]
  },
  {
   "cell_type": "markdown",
   "id": "8462361a-5b51-4c6c-ada6-a90e4c7c4add",
   "metadata": {},
   "source": [
    "2. z-score\n",
    "\n",
    "- How do you calculate the z-score?:-\n",
    "\n",
    "The formula for calculating a z-score is is z = (x-μ)/σ, where x is the raw score, μ is the population mean, and σ is the population standard deviation."
   ]
  },
  {
   "cell_type": "code",
   "execution_count": 14,
   "id": "700088e7-dfa6-4219-906e-5c055edb2a80",
   "metadata": {},
   "outputs": [
    {
     "data": {
      "text/html": [
       "<div>\n",
       "<style scoped>\n",
       "    .dataframe tbody tr th:only-of-type {\n",
       "        vertical-align: middle;\n",
       "    }\n",
       "\n",
       "    .dataframe tbody tr th {\n",
       "        vertical-align: top;\n",
       "    }\n",
       "\n",
       "    .dataframe thead th {\n",
       "        text-align: right;\n",
       "    }\n",
       "</style>\n",
       "<table border=\"1\" class=\"dataframe\">\n",
       "  <thead>\n",
       "    <tr style=\"text-align: right;\">\n",
       "      <th></th>\n",
       "      <th>order_id</th>\n",
       "      <th>shop_id</th>\n",
       "      <th>user_id</th>\n",
       "      <th>order_amount</th>\n",
       "      <th>total_items</th>\n",
       "      <th>payment_method</th>\n",
       "      <th>created_at</th>\n",
       "      <th>z_score</th>\n",
       "    </tr>\n",
       "  </thead>\n",
       "  <tbody>\n",
       "    <tr>\n",
       "      <th>0</th>\n",
       "      <td>1</td>\n",
       "      <td>53</td>\n",
       "      <td>746</td>\n",
       "      <td>224</td>\n",
       "      <td>2</td>\n",
       "      <td>cash</td>\n",
       "      <td>2017-03-13 12:36:56</td>\n",
       "      <td>-0.07</td>\n",
       "    </tr>\n",
       "    <tr>\n",
       "      <th>1</th>\n",
       "      <td>2</td>\n",
       "      <td>92</td>\n",
       "      <td>925</td>\n",
       "      <td>90</td>\n",
       "      <td>1</td>\n",
       "      <td>cash</td>\n",
       "      <td>2017-03-03 17:38:52</td>\n",
       "      <td>-0.07</td>\n",
       "    </tr>\n",
       "    <tr>\n",
       "      <th>2</th>\n",
       "      <td>3</td>\n",
       "      <td>44</td>\n",
       "      <td>861</td>\n",
       "      <td>144</td>\n",
       "      <td>1</td>\n",
       "      <td>cash</td>\n",
       "      <td>2017-03-14 4:23:56</td>\n",
       "      <td>-0.07</td>\n",
       "    </tr>\n",
       "    <tr>\n",
       "      <th>3</th>\n",
       "      <td>4</td>\n",
       "      <td>18</td>\n",
       "      <td>935</td>\n",
       "      <td>156</td>\n",
       "      <td>1</td>\n",
       "      <td>credit_card</td>\n",
       "      <td>2017-03-26 12:43:37</td>\n",
       "      <td>-0.07</td>\n",
       "    </tr>\n",
       "    <tr>\n",
       "      <th>4</th>\n",
       "      <td>5</td>\n",
       "      <td>18</td>\n",
       "      <td>883</td>\n",
       "      <td>156</td>\n",
       "      <td>1</td>\n",
       "      <td>credit_card</td>\n",
       "      <td>2017-03-01 4:35:11</td>\n",
       "      <td>-0.07</td>\n",
       "    </tr>\n",
       "  </tbody>\n",
       "</table>\n",
       "</div>"
      ],
      "text/plain": [
       "   order_id  shop_id  user_id  order_amount  total_items payment_method  \\\n",
       "0         1       53      746           224            2           cash   \n",
       "1         2       92      925            90            1           cash   \n",
       "2         3       44      861           144            1           cash   \n",
       "3         4       18      935           156            1    credit_card   \n",
       "4         5       18      883           156            1    credit_card   \n",
       "\n",
       "            created_at  z_score  \n",
       "0  2017-03-13 12:36:56    -0.07  \n",
       "1  2017-03-03 17:38:52    -0.07  \n",
       "2   2017-03-14 4:23:56    -0.07  \n",
       "3  2017-03-26 12:43:37    -0.07  \n",
       "4   2017-03-01 4:35:11    -0.07  "
      ]
     },
     "execution_count": 14,
     "metadata": {},
     "output_type": "execute_result"
    }
   ],
   "source": [
    "sneaker_df['z_score'] = ((sneaker_df['order_amount'] - 3145.128) / 41282.539).round(2)\n",
    "sneaker_df.head()"
   ]
  },
  {
   "cell_type": "code",
   "execution_count": 15,
   "id": "3e72ca26-d209-447d-ba4d-3dbcfb75b5fc",
   "metadata": {},
   "outputs": [
    {
     "data": {
      "text/html": [
       "<div>\n",
       "<style scoped>\n",
       "    .dataframe tbody tr th:only-of-type {\n",
       "        vertical-align: middle;\n",
       "    }\n",
       "\n",
       "    .dataframe tbody tr th {\n",
       "        vertical-align: top;\n",
       "    }\n",
       "\n",
       "    .dataframe thead th {\n",
       "        text-align: right;\n",
       "    }\n",
       "</style>\n",
       "<table border=\"1\" class=\"dataframe\">\n",
       "  <thead>\n",
       "    <tr style=\"text-align: right;\">\n",
       "      <th></th>\n",
       "      <th>order_id</th>\n",
       "      <th>shop_id</th>\n",
       "      <th>user_id</th>\n",
       "      <th>order_amount</th>\n",
       "      <th>total_items</th>\n",
       "      <th>payment_method</th>\n",
       "      <th>created_at</th>\n",
       "      <th>z_score</th>\n",
       "    </tr>\n",
       "  </thead>\n",
       "  <tbody>\n",
       "    <tr>\n",
       "      <th>15</th>\n",
       "      <td>16</td>\n",
       "      <td>42</td>\n",
       "      <td>607</td>\n",
       "      <td>704000</td>\n",
       "      <td>2000</td>\n",
       "      <td>credit_card</td>\n",
       "      <td>2017-03-07 4:00:00</td>\n",
       "      <td>16.98</td>\n",
       "    </tr>\n",
       "    <tr>\n",
       "      <th>40</th>\n",
       "      <td>41</td>\n",
       "      <td>42</td>\n",
       "      <td>793</td>\n",
       "      <td>352</td>\n",
       "      <td>1</td>\n",
       "      <td>credit_card</td>\n",
       "      <td>2017-03-24 14:15:41</td>\n",
       "      <td>-0.07</td>\n",
       "    </tr>\n",
       "    <tr>\n",
       "      <th>60</th>\n",
       "      <td>61</td>\n",
       "      <td>42</td>\n",
       "      <td>607</td>\n",
       "      <td>704000</td>\n",
       "      <td>2000</td>\n",
       "      <td>credit_card</td>\n",
       "      <td>2017-03-04 4:00:00</td>\n",
       "      <td>16.98</td>\n",
       "    </tr>\n",
       "    <tr>\n",
       "      <th>308</th>\n",
       "      <td>309</td>\n",
       "      <td>42</td>\n",
       "      <td>770</td>\n",
       "      <td>352</td>\n",
       "      <td>1</td>\n",
       "      <td>credit_card</td>\n",
       "      <td>2017-03-11 18:14:39</td>\n",
       "      <td>-0.07</td>\n",
       "    </tr>\n",
       "    <tr>\n",
       "      <th>409</th>\n",
       "      <td>410</td>\n",
       "      <td>42</td>\n",
       "      <td>904</td>\n",
       "      <td>704</td>\n",
       "      <td>2</td>\n",
       "      <td>credit_card</td>\n",
       "      <td>2017-03-04 14:32:58</td>\n",
       "      <td>-0.06</td>\n",
       "    </tr>\n",
       "  </tbody>\n",
       "</table>\n",
       "</div>"
      ],
      "text/plain": [
       "     order_id  shop_id  user_id  order_amount  total_items payment_method  \\\n",
       "15         16       42      607        704000         2000    credit_card   \n",
       "40         41       42      793           352            1    credit_card   \n",
       "60         61       42      607        704000         2000    credit_card   \n",
       "308       309       42      770           352            1    credit_card   \n",
       "409       410       42      904           704            2    credit_card   \n",
       "\n",
       "              created_at  z_score  \n",
       "15    2017-03-07 4:00:00    16.98  \n",
       "40   2017-03-24 14:15:41    -0.07  \n",
       "60    2017-03-04 4:00:00    16.98  \n",
       "308  2017-03-11 18:14:39    -0.07  \n",
       "409  2017-03-04 14:32:58    -0.06  "
      ]
     },
     "execution_count": 15,
     "metadata": {},
     "output_type": "execute_result"
    }
   ],
   "source": [
    "sneaker_df[(sneaker_df['shop_id'] == 42)].head()"
   ]
  },
  {
   "cell_type": "code",
   "execution_count": 16,
   "id": "bdba04fe-3e56-459f-8e5c-c9a3a14dc9a7",
   "metadata": {},
   "outputs": [
    {
     "data": {
      "text/html": [
       "<div>\n",
       "<style scoped>\n",
       "    .dataframe tbody tr th:only-of-type {\n",
       "        vertical-align: middle;\n",
       "    }\n",
       "\n",
       "    .dataframe tbody tr th {\n",
       "        vertical-align: top;\n",
       "    }\n",
       "\n",
       "    .dataframe thead th {\n",
       "        text-align: right;\n",
       "    }\n",
       "</style>\n",
       "<table border=\"1\" class=\"dataframe\">\n",
       "  <thead>\n",
       "    <tr style=\"text-align: right;\">\n",
       "      <th></th>\n",
       "      <th>order_id</th>\n",
       "      <th>shop_id</th>\n",
       "      <th>user_id</th>\n",
       "      <th>order_amount</th>\n",
       "      <th>total_items</th>\n",
       "      <th>payment_method</th>\n",
       "      <th>created_at</th>\n",
       "      <th>z_score</th>\n",
       "    </tr>\n",
       "  </thead>\n",
       "  <tbody>\n",
       "    <tr>\n",
       "      <th>160</th>\n",
       "      <td>161</td>\n",
       "      <td>78</td>\n",
       "      <td>990</td>\n",
       "      <td>25725</td>\n",
       "      <td>1</td>\n",
       "      <td>credit_card</td>\n",
       "      <td>2017-03-12 5:56:57</td>\n",
       "      <td>0.55</td>\n",
       "    </tr>\n",
       "    <tr>\n",
       "      <th>490</th>\n",
       "      <td>491</td>\n",
       "      <td>78</td>\n",
       "      <td>936</td>\n",
       "      <td>51450</td>\n",
       "      <td>2</td>\n",
       "      <td>debit</td>\n",
       "      <td>2017-03-26 17:08:19</td>\n",
       "      <td>1.17</td>\n",
       "    </tr>\n",
       "    <tr>\n",
       "      <th>493</th>\n",
       "      <td>494</td>\n",
       "      <td>78</td>\n",
       "      <td>983</td>\n",
       "      <td>51450</td>\n",
       "      <td>2</td>\n",
       "      <td>cash</td>\n",
       "      <td>2017-03-16 21:39:35</td>\n",
       "      <td>1.17</td>\n",
       "    </tr>\n",
       "    <tr>\n",
       "      <th>511</th>\n",
       "      <td>512</td>\n",
       "      <td>78</td>\n",
       "      <td>967</td>\n",
       "      <td>51450</td>\n",
       "      <td>2</td>\n",
       "      <td>cash</td>\n",
       "      <td>2017-03-09 7:23:14</td>\n",
       "      <td>1.17</td>\n",
       "    </tr>\n",
       "    <tr>\n",
       "      <th>617</th>\n",
       "      <td>618</td>\n",
       "      <td>78</td>\n",
       "      <td>760</td>\n",
       "      <td>51450</td>\n",
       "      <td>2</td>\n",
       "      <td>cash</td>\n",
       "      <td>2017-03-18 11:18:42</td>\n",
       "      <td>1.17</td>\n",
       "    </tr>\n",
       "  </tbody>\n",
       "</table>\n",
       "</div>"
      ],
      "text/plain": [
       "     order_id  shop_id  user_id  order_amount  total_items payment_method  \\\n",
       "160       161       78      990         25725            1    credit_card   \n",
       "490       491       78      936         51450            2          debit   \n",
       "493       494       78      983         51450            2           cash   \n",
       "511       512       78      967         51450            2           cash   \n",
       "617       618       78      760         51450            2           cash   \n",
       "\n",
       "              created_at  z_score  \n",
       "160   2017-03-12 5:56:57     0.55  \n",
       "490  2017-03-26 17:08:19     1.17  \n",
       "493  2017-03-16 21:39:35     1.17  \n",
       "511   2017-03-09 7:23:14     1.17  \n",
       "617  2017-03-18 11:18:42     1.17  "
      ]
     },
     "execution_count": 16,
     "metadata": {},
     "output_type": "execute_result"
    }
   ],
   "source": [
    "sneaker_df[(sneaker_df['shop_id'] == 78)].head()"
   ]
  },
  {
   "cell_type": "code",
   "execution_count": 17,
   "id": "162084e2-6cb7-4b3a-8326-d0266a555ec6",
   "metadata": {},
   "outputs": [
    {
     "data": {
      "text/plain": [
       "((4903, 8), -0.06832347542321031)"
      ]
     },
     "execution_count": 17,
     "metadata": {},
     "output_type": "execute_result"
    }
   ],
   "source": [
    "mod_2_sneaker_df = sneaker_df[(sneaker_df['shop_id'] != 78) & (sneaker_df['shop_id'] != 42)]\n",
    "mod_2_sneaker_df.shape, mod_2_sneaker_df['z_score'].mean()"
   ]
  },
  {
   "cell_type": "markdown",
   "id": "e1da1c98-7054-4224-9347-1a33079c21e0",
   "metadata": {},
   "source": [
    "Mean z-score value of the whole dataset is : -0.06832 while for some extreme outlier is greater 1 like for shop with ID 42 the z-score is 16.98 - indicating a extreme value and for shop with ID 78 the value is 1.17.\n",
    "\n",
    "So if we keep a threshold of 0.5 and try and find the AOV then, we get:-"
   ]
  },
  {
   "cell_type": "code",
   "execution_count": 20,
   "id": "f17c8604-c01f-440f-ac2e-ca963b84dc2c",
   "metadata": {},
   "outputs": [
    {
     "data": {
      "text/plain": [
       "302.58051448247926"
      ]
     },
     "execution_count": 20,
     "metadata": {},
     "output_type": "execute_result"
    }
   ],
   "source": [
    "sneaker_df[sneaker_df['z_score']<0.5]['order_amount'].mean()"
   ]
  },
  {
   "cell_type": "code",
   "execution_count": 21,
   "id": "c817fbc6-73d6-4d54-a418-7e9e51450019",
   "metadata": {},
   "outputs": [
    {
     "data": {
      "text/plain": [
       "400.04338175948345"
      ]
     },
     "execution_count": 21,
     "metadata": {},
     "output_type": "execute_result"
    }
   ],
   "source": [
    "sneaker_df[sneaker_df['z_score']<1]['order_amount'].mean()"
   ]
  },
  {
   "cell_type": "markdown",
   "id": "d60fbeec-b70b-461a-b370-a7c26a6ccc9e",
   "metadata": {},
   "source": [
    "As it can be seen from the above 2 code cell blocks that the tighter threshold we use the closer we get to what modified value we found out after removing some anomalies from the dataset, as a z-score gets closer to 0 indicating the closeness of the value to mean."
   ]
  }
 ],
 "metadata": {
  "kernelspec": {
   "display_name": "Python 3 (ipykernel)",
   "language": "python",
   "name": "python3"
  },
  "language_info": {
   "codemirror_mode": {
    "name": "ipython",
    "version": 3
   },
   "file_extension": ".py",
   "mimetype": "text/x-python",
   "name": "python",
   "nbconvert_exporter": "python",
   "pygments_lexer": "ipython3",
   "version": "3.9.7"
  }
 },
 "nbformat": 4,
 "nbformat_minor": 5
}
